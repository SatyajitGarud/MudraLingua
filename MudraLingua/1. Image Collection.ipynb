{
 "cells": [
  {
   "cell_type": "markdown",
   "metadata": {},
   "source": [
    "# 1. Import Dependencies"
   ]
  },
  {
   "cell_type": "code",
   "execution_count": 1,
   "metadata": {},
   "outputs": [
    {
     "name": "stdout",
     "output_type": "stream",
     "text": [
      "Requirement already satisfied: opencv-python in d:\\tfodcourse\\tfod\\lib\\site-packages (4.7.0.72)\n",
      "Requirement already satisfied: numpy>=1.19.3 in d:\\tfodcourse\\tfod\\lib\\site-packages (from opencv-python) (1.24.2)\n"
     ]
    }
   ],
   "source": [
    "!pip install opencv-python"
   ]
  },
  {
   "cell_type": "code",
   "execution_count": 2,
   "metadata": {},
   "outputs": [],
   "source": [
    "# Import opencv\n",
    "import cv2 \n",
    "\n",
    "# Import uuid\n",
    "import uuid\n",
    "\n",
    "# Import Operating System\n",
    "import os\n",
    "\n",
    "# Import time\n",
    "import time"
   ]
  },
  {
   "cell_type": "markdown",
   "metadata": {},
   "source": [
    "# 2. Define Images to Collect"
   ]
  },
  {
   "cell_type": "code",
   "execution_count": 8,
   "metadata": {},
   "outputs": [],
   "source": [
    "labels = ['one', 'two', 'three', 'A','B','C','teacher','marry']\n",
    "number_imgs = 10"
   ]
  },
  {
   "cell_type": "markdown",
   "metadata": {},
   "source": [
    "# 3. Setup Folders "
   ]
  },
  {
   "cell_type": "code",
   "execution_count": 5,
   "metadata": {},
   "outputs": [
    {
     "data": {
      "text/plain": [
       "['one', 'two', 'three', 'A', 'B', 'C', 'teacher', 'marry']"
      ]
     },
     "execution_count": 5,
     "metadata": {},
     "output_type": "execute_result"
    }
   ],
   "source": [
    "labels\n"
   ]
  },
  {
   "cell_type": "code",
   "execution_count": 6,
   "metadata": {},
   "outputs": [],
   "source": [
    "IMAGES_PATH = os.path.join('Tensorflow', 'workspace', 'images', 'collectedimages')"
   ]
  },
  {
   "cell_type": "code",
   "execution_count": 7,
   "metadata": {},
   "outputs": [],
   "source": [
    "if not os.path.exists(IMAGES_PATH):\n",
    "    if os.name == 'posix':\n",
    "        !mkdir -p {IMAGES_PATH}\n",
    "    if os.name == 'nt':\n",
    "         !mkdir {IMAGES_PATH}\n",
    "for label in labels:\n",
    "    path = os.path.join(IMAGES_PATH, label)\n",
    "    if not os.path.exists(path):\n",
    "        !mkdir {path}"
   ]
  },
  {
   "cell_type": "markdown",
   "metadata": {},
   "source": [
    "# 4. Capture Images"
   ]
  },
  {
   "cell_type": "code",
   "execution_count": 9,
   "metadata": {},
   "outputs": [
    {
     "name": "stdout",
     "output_type": "stream",
     "text": [
      "Collecting images for one\n",
      "Collecting image 0\n",
      "Collecting image 1\n",
      "Collecting image 2\n",
      "Collecting image 3\n",
      "Collecting image 4\n",
      "Collecting image 5\n",
      "Collecting image 6\n",
      "Collecting image 7\n",
      "Collecting image 8\n",
      "Collecting image 9\n",
      "Collecting images for two\n",
      "Collecting image 0\n",
      "Collecting image 1\n",
      "Collecting image 2\n",
      "Collecting image 3\n",
      "Collecting image 4\n",
      "Collecting image 5\n",
      "Collecting image 6\n",
      "Collecting image 7\n",
      "Collecting image 8\n",
      "Collecting image 9\n",
      "Collecting images for three\n",
      "Collecting image 0\n",
      "Collecting image 1\n",
      "Collecting image 2\n",
      "Collecting image 3\n",
      "Collecting image 4\n",
      "Collecting image 5\n",
      "Collecting image 6\n",
      "Collecting image 7\n",
      "Collecting image 8\n",
      "Collecting image 9\n",
      "Collecting images for A\n",
      "Collecting image 0\n",
      "Collecting image 1\n",
      "Collecting image 2\n",
      "Collecting image 3\n",
      "Collecting image 4\n",
      "Collecting image 5\n",
      "Collecting image 6\n",
      "Collecting image 7\n",
      "Collecting image 8\n",
      "Collecting image 9\n",
      "Collecting images for B\n",
      "Collecting image 0\n",
      "Collecting image 1\n",
      "Collecting image 2\n",
      "Collecting image 3\n",
      "Collecting image 4\n",
      "Collecting image 5\n",
      "Collecting image 6\n",
      "Collecting image 7\n",
      "Collecting image 8\n",
      "Collecting image 9\n",
      "Collecting images for C\n",
      "Collecting image 0\n",
      "Collecting image 1\n",
      "Collecting image 2\n",
      "Collecting image 3\n",
      "Collecting image 4\n",
      "Collecting image 5\n",
      "Collecting image 6\n",
      "Collecting image 7\n",
      "Collecting image 8\n",
      "Collecting image 9\n",
      "Collecting images for teacher\n",
      "Collecting image 0\n",
      "Collecting image 1\n",
      "Collecting image 2\n",
      "Collecting image 3\n",
      "Collecting image 4\n",
      "Collecting image 5\n",
      "Collecting image 6\n",
      "Collecting image 7\n",
      "Collecting image 8\n",
      "Collecting image 9\n",
      "Collecting images for marry\n",
      "Collecting image 0\n",
      "Collecting image 1\n",
      "Collecting image 2\n",
      "Collecting image 3\n",
      "Collecting image 4\n",
      "Collecting image 5\n",
      "Collecting image 6\n",
      "Collecting image 7\n",
      "Collecting image 8\n",
      "Collecting image 9\n"
     ]
    }
   ],
   "source": [
    "for label in labels:\n",
    "    cap = cv2.VideoCapture(0)\n",
    "    print('Collecting images for {}'.format(label))\n",
    "    time.sleep(5)\n",
    "    for imgnum in range(number_imgs):\n",
    "        print('Collecting image {}'.format(imgnum))\n",
    "        ret, frame = cap.read()\n",
    "        imgname = os.path.join(IMAGES_PATH,label,label+'.'+'{}.jpg'.format(str(uuid.uuid1())))\n",
    "        cv2.imwrite(imgname, frame)\n",
    "        cv2.imshow('frame', frame)\n",
    "        time.sleep(2)\n",
    "\n",
    "        if cv2.waitKey(1) & 0xFF == ord('q'):\n",
    "            break\n",
    "cap.release()\n",
    "cv2.destroyAllWindows()"
   ]
  },
  {
   "cell_type": "markdown",
   "metadata": {},
   "source": [
    "# 5. Image Labelling"
   ]
  },
  {
   "cell_type": "code",
   "execution_count": 10,
   "metadata": {},
   "outputs": [
    {
     "name": "stdout",
     "output_type": "stream",
     "text": [
      "Requirement already satisfied: pyqt5 in d:\\tfodcourse\\tfod\\lib\\site-packages (5.15.9)\n",
      "Requirement already satisfied: lxml in d:\\tfodcourse\\tfod\\lib\\site-packages (4.9.2)\n",
      "Requirement already satisfied: PyQt5-Qt5>=5.15.2 in d:\\tfodcourse\\tfod\\lib\\site-packages (from pyqt5) (5.15.2)\n",
      "Requirement already satisfied: PyQt5-sip<13,>=12.11 in d:\\tfodcourse\\tfod\\lib\\site-packages (from pyqt5) (12.11.1)\n"
     ]
    }
   ],
   "source": [
    "!pip install --upgrade pyqt5 lxml"
   ]
  },
  {
   "cell_type": "code",
   "execution_count": 14,
   "metadata": {},
   "outputs": [],
   "source": [
    "LABELIMG_PATH = os.path.join('Tensorflow', 'labelimg')"
   ]
  },
  {
   "cell_type": "code",
   "execution_count": 34,
   "metadata": {},
   "outputs": [
    {
     "name": "stderr",
     "output_type": "stream",
     "text": [
      "Cloning into 'Tensorflow\\labelimg'...\n"
     ]
    }
   ],
   "source": [
    "if not os.path.exists(LABELIMG_PATH):\n",
    "    !mkdir {LABELIMG_PATH}\n",
    "    !git clone https://github.com/heartexlabs/labelImg {LABELIMG_PATH}"
   ]
  },
  {
   "cell_type": "code",
   "execution_count": 13,
   "metadata": {},
   "outputs": [],
   "source": [
    "if os.name == 'posix':\n",
    "    !make qt5py3\n",
    "if os.name =='nt':\n",
    "    !cd {LABELIMG_PATH} && pyrcc5 -o libs/resources.py resources.qrc"
   ]
  },
  {
   "cell_type": "code",
   "execution_count": 15,
   "metadata": {},
   "outputs": [
    {
     "name": "stdout",
     "output_type": "stream",
     "text": [
      "Image:D:\\TFODCourse\\Tensorflow\\workspace\\images\\collectedimages\\A\\A.2e046e32-bbf0-11ed-83ec-6240a8552066.jpg -> Annotation:D:/TFODCourse/Tensorflow/workspace/images/collectedimages/A\\A.2e046e32-bbf0-11ed-83ec-6240a8552066.xml\n",
      "Image:D:\\TFODCourse\\Tensorflow\\workspace\\images\\collectedimages\\A\\A.2f3ac2c3-bbf0-11ed-b6e8-6240a8552066.jpg -> Annotation:D:/TFODCourse/Tensorflow/workspace/images/collectedimages/A\\A.2f3ac2c3-bbf0-11ed-b6e8-6240a8552066.xml\n",
      "Image:D:\\TFODCourse\\Tensorflow\\workspace\\images\\collectedimages\\A\\A.31a34aaf-bbf0-11ed-9265-6240a8552066.jpg -> Annotation:D:/TFODCourse/Tensorflow/workspace/images/collectedimages/A\\A.31a34aaf-bbf0-11ed-9265-6240a8552066.xml\n",
      "Image:D:\\TFODCourse\\Tensorflow\\workspace\\images\\collectedimages\\A\\A.32d83d3c-bbf0-11ed-b7ce-6240a8552066.jpg -> Annotation:D:/TFODCourse/Tensorflow/workspace/images/collectedimages/A\\A.32d83d3c-bbf0-11ed-b7ce-6240a8552066.xml\n",
      "Image:D:\\TFODCourse\\Tensorflow\\workspace\\images\\collectedimages\\A\\A.37a46a21-bbf0-11ed-b271-6240a8552066.jpg -> Annotation:D:/TFODCourse/Tensorflow/workspace/images/collectedimages/A\\A.37a46a21-bbf0-11ed-b271-6240a8552066.xml\n",
      "Image:D:\\TFODCourse\\Tensorflow\\workspace\\images\\collectedimages\\A\\A.306fbb83-bbf0-11ed-bc25-6240a8552066.jpg -> Annotation:D:/TFODCourse/Tensorflow/workspace/images/collectedimages/A\\A.306fbb83-bbf0-11ed-bc25-6240a8552066.xml\n",
      "Image:D:\\TFODCourse\\Tensorflow\\workspace\\images\\collectedimages\\A\\A.340ae73f-bbf0-11ed-895f-6240a8552066.jpg -> Annotation:D:/TFODCourse/Tensorflow/workspace/images/collectedimages/A\\A.340ae73f-bbf0-11ed-895f-6240a8552066.xml\n",
      "Image:D:\\TFODCourse\\Tensorflow\\workspace\\images\\collectedimages\\A\\A.353dc664-bbf0-11ed-abde-6240a8552066.jpg -> Annotation:D:/TFODCourse/Tensorflow/workspace/images/collectedimages/A\\A.353dc664-bbf0-11ed-abde-6240a8552066.xml\n",
      "Image:D:\\TFODCourse\\Tensorflow\\workspace\\images\\collectedimages\\A\\A.36720cb4-bbf0-11ed-91a9-6240a8552066.jpg -> Annotation:D:/TFODCourse/Tensorflow/workspace/images/collectedimages/A\\A.36720cb4-bbf0-11ed-91a9-6240a8552066.xml\n",
      "Image:D:\\TFODCourse\\Tensorflow\\workspace\\images\\collectedimages\\A\\A.38d67833-bbf0-11ed-89f0-6240a8552066.jpg -> Annotation:D:/TFODCourse/Tensorflow/workspace/images/collectedimages/A\\A.38d67833-bbf0-11ed-89f0-6240a8552066.xml\n",
      "Image:D:\\TFODCourse\\Tensorflow\\workspace\\images\\collectedimages\\B\\B.3ed2241b-bbf0-11ed-9eed-6240a8552066.jpg -> Annotation:D:/TFODCourse/Tensorflow/workspace/images/collectedimages/B\\B.3ed2241b-bbf0-11ed-9eed-6240a8552066.xml\n",
      "Image:D:\\TFODCourse\\Tensorflow\\workspace\\images\\collectedimages\\B\\B.43a0bb8d-bbf0-11ed-8ca5-6240a8552066.jpg -> Annotation:D:/TFODCourse/Tensorflow/workspace/images/collectedimages/B\\B.43a0bb8d-bbf0-11ed-8ca5-6240a8552066.xml\n",
      "Image:D:\\TFODCourse\\Tensorflow\\workspace\\images\\collectedimages\\B\\B.44d5765e-bbf0-11ed-b4c8-6240a8552066.jpg -> Annotation:D:/TFODCourse/Tensorflow/workspace/images/collectedimages/B\\B.44d5765e-bbf0-11ed-b4c8-6240a8552066.xml\n",
      "Image:D:\\TFODCourse\\Tensorflow\\workspace\\images\\collectedimages\\B\\B.49a3f2ae-bbf0-11ed-91e2-6240a8552066.jpg -> Annotation:D:/TFODCourse/Tensorflow/workspace/images/collectedimages/B\\B.49a3f2ae-bbf0-11ed-91e2-6240a8552066.xml\n",
      "Image:D:\\TFODCourse\\Tensorflow\\workspace\\images\\collectedimages\\B\\B.413a7a5a-bbf0-11ed-9a0e-6240a8552066.jpg -> Annotation:D:/TFODCourse/Tensorflow/workspace/images/collectedimages/B\\B.413a7a5a-bbf0-11ed-9a0e-6240a8552066.xml\n",
      "Image:D:\\TFODCourse\\Tensorflow\\workspace\\images\\collectedimages\\B\\B.426e31ff-bbf0-11ed-938c-6240a8552066.jpg -> Annotation:D:/TFODCourse/Tensorflow/workspace/images/collectedimages/B\\B.426e31ff-bbf0-11ed-938c-6240a8552066.xml\n",
      "Image:D:\\TFODCourse\\Tensorflow\\workspace\\images\\collectedimages\\B\\B.473b93b4-bbf0-11ed-a19f-6240a8552066.jpg -> Annotation:D:/TFODCourse/Tensorflow/workspace/images/collectedimages/B\\B.473b93b4-bbf0-11ed-a19f-6240a8552066.xml\n",
      "Image:D:\\TFODCourse\\Tensorflow\\workspace\\images\\collectedimages\\B\\B.4608ea69-bbf0-11ed-a3d6-6240a8552066.jpg -> Annotation:D:/TFODCourse/Tensorflow/workspace/images/collectedimages/B\\B.4608ea69-bbf0-11ed-a3d6-6240a8552066.xml\n",
      "Image:D:\\TFODCourse\\Tensorflow\\workspace\\images\\collectedimages\\B\\B.40084220-bbf0-11ed-b17e-6240a8552066.jpg -> Annotation:D:/TFODCourse/Tensorflow/workspace/images/collectedimages/B\\B.40084220-bbf0-11ed-b17e-6240a8552066.xml\n",
      "Image:D:\\TFODCourse\\Tensorflow\\workspace\\images\\collectedimages\\B\\B.48703174-bbf0-11ed-8498-6240a8552066.jpg -> Annotation:D:/TFODCourse/Tensorflow/workspace/images/collectedimages/B\\B.48703174-bbf0-11ed-8498-6240a8552066.xml\n",
      "Image:D:\\TFODCourse\\Tensorflow\\workspace\\images\\collectedimages\\C\\C.4f6a0298-bbf0-11ed-97db-6240a8552066.jpg -> Annotation:D:/TFODCourse/Tensorflow/workspace/images/collectedimages/C\\C.4f6a0298-bbf0-11ed-97db-6240a8552066.xml\n",
      "Image:D:\\TFODCourse\\Tensorflow\\workspace\\images\\collectedimages\\C\\C.5a3c61a3-bbf0-11ed-b56b-6240a8552066.jpg -> Annotation:D:/TFODCourse/Tensorflow/workspace/images/collectedimages/C\\C.5a3c61a3-bbf0-11ed-b56b-6240a8552066.xml\n",
      "Image:D:\\TFODCourse\\Tensorflow\\workspace\\images\\collectedimages\\C\\C.50a06b38-bbf0-11ed-8490-6240a8552066.jpg -> Annotation:D:/TFODCourse/Tensorflow/workspace/images/collectedimages/C\\C.50a06b38-bbf0-11ed-8490-6240a8552066.xml\n",
      "Image:D:\\TFODCourse\\Tensorflow\\workspace\\images\\collectedimages\\C\\C.51d32883-bbf0-11ed-bd62-6240a8552066.jpg -> Annotation:D:/TFODCourse/Tensorflow/workspace/images/collectedimages/C\\C.51d32883-bbf0-11ed-bd62-6240a8552066.xml\n",
      "Image:D:\\TFODCourse\\Tensorflow\\workspace\\images\\collectedimages\\C\\C.57d68275-bbf0-11ed-a5db-6240a8552066.jpg -> Annotation:D:/TFODCourse/Tensorflow/workspace/images/collectedimages/C\\C.57d68275-bbf0-11ed-a5db-6240a8552066.xml\n",
      "Image:D:\\TFODCourse\\Tensorflow\\workspace\\images\\collectedimages\\C\\C.556d110b-bbf0-11ed-ad4f-6240a8552066.jpg -> Annotation:D:/TFODCourse/Tensorflow/workspace/images/collectedimages/C\\C.556d110b-bbf0-11ed-ad4f-6240a8552066.xml\n",
      "Image:D:\\TFODCourse\\Tensorflow\\workspace\\images\\collectedimages\\C\\C.569fb520-bbf0-11ed-ba77-6240a8552066.jpg -> Annotation:D:/TFODCourse/Tensorflow/workspace/images/collectedimages/C\\C.569fb520-bbf0-11ed-ba77-6240a8552066.xml\n",
      "Image:D:\\TFODCourse\\Tensorflow\\workspace\\images\\collectedimages\\C\\C.590a0e88-bbf0-11ed-8f6f-6240a8552066.jpg -> Annotation:D:/TFODCourse/Tensorflow/workspace/images/collectedimages/C\\C.590a0e88-bbf0-11ed-8f6f-6240a8552066.xml\n",
      "Image:D:\\TFODCourse\\Tensorflow\\workspace\\images\\collectedimages\\C\\C.5306f62e-bbf0-11ed-a38f-6240a8552066.jpg -> Annotation:D:/TFODCourse/Tensorflow/workspace/images/collectedimages/C\\C.5306f62e-bbf0-11ed-a38f-6240a8552066.xml\n",
      "Image:D:\\TFODCourse\\Tensorflow\\workspace\\images\\collectedimages\\marry\\marry.7a0ff045-bbf0-11ed-84f0-6240a8552066.jpg -> Annotation:D:/TFODCourse/Tensorflow/workspace/images/collectedimages/marry\\marry.7a0ff045-bbf0-11ed-84f0-6240a8552066.xml\n",
      "Image:D:\\TFODCourse\\Tensorflow\\workspace\\images\\collectedimages\\marry\\marry.7b441b0a-bbf0-11ed-ad6a-6240a8552066.jpg -> Annotation:D:/TFODCourse/Tensorflow/workspace/images/collectedimages/marry\\marry.7b441b0a-bbf0-11ed-ad6a-6240a8552066.xml\n",
      "Image:D:\\TFODCourse\\Tensorflow\\workspace\\images\\collectedimages\\marry\\marry.71a5c3ae-bbf0-11ed-93d4-6240a8552066.jpg -> Annotation:D:/TFODCourse/Tensorflow/workspace/images/collectedimages/marry\\marry.71a5c3ae-bbf0-11ed-93d4-6240a8552066.xml\n",
      "Image:D:\\TFODCourse\\Tensorflow\\workspace\\images\\collectedimages\\marry\\marry.72d9a106-bbf0-11ed-b371-6240a8552066.jpg -> Annotation:D:/TFODCourse/Tensorflow/workspace/images/collectedimages/marry\\marry.72d9a106-bbf0-11ed-b371-6240a8552066.xml\n",
      "Image:D:\\TFODCourse\\Tensorflow\\workspace\\images\\collectedimages\\marry\\marry.77a83f22-bbf0-11ed-89ed-6240a8552066.jpg -> Annotation:D:/TFODCourse/Tensorflow/workspace/images/collectedimages/marry\\marry.77a83f22-bbf0-11ed-89ed-6240a8552066.xml\n",
      "Image:D:\\TFODCourse\\Tensorflow\\workspace\\images\\collectedimages\\marry\\marry.78dcf3cc-bbf0-11ed-a2fe-6240a8552066.jpg -> Annotation:D:/TFODCourse/Tensorflow/workspace/images/collectedimages/marry\\marry.78dcf3cc-bbf0-11ed-a2fe-6240a8552066.xml\n",
      "Image:D:\\TFODCourse\\Tensorflow\\workspace\\images\\collectedimages\\marry\\marry.740c53dc-bbf0-11ed-91c2-6240a8552066.jpg -> Annotation:D:/TFODCourse/Tensorflow/workspace/images/collectedimages/marry\\marry.740c53dc-bbf0-11ed-91c2-6240a8552066.xml\n",
      "Image:D:\\TFODCourse\\Tensorflow\\workspace\\images\\collectedimages\\marry\\marry.7071bf1e-bbf0-11ed-8619-6240a8552066.jpg -> Annotation:D:/TFODCourse/Tensorflow/workspace/images/collectedimages/marry\\marry.7071bf1e-bbf0-11ed-8619-6240a8552066.xml\n",
      "Image:D:\\TFODCourse\\Tensorflow\\workspace\\images\\collectedimages\\marry\\marry.7674de13-bbf0-11ed-81b4-6240a8552066.jpg -> Annotation:D:/TFODCourse/Tensorflow/workspace/images/collectedimages/marry\\marry.7674de13-bbf0-11ed-81b4-6240a8552066.xml\n",
      "Image:D:\\TFODCourse\\Tensorflow\\workspace\\images\\collectedimages\\marry\\marry.754136da-bbf0-11ed-925f-6240a8552066.jpg -> Annotation:D:/TFODCourse/Tensorflow/workspace/images/collectedimages/marry\\marry.754136da-bbf0-11ed-925f-6240a8552066.xml\n",
      "Image:D:\\TFODCourse\\Tensorflow\\workspace\\images\\collectedimages\\one\\one.04b8a3bb-bbf0-11ed-8b81-6240a8552066.jpg -> Annotation:D:/TFODCourse/Tensorflow/workspace/images/collectedimages/one\\one.04b8a3bb-bbf0-11ed-8b81-6240a8552066.xml\n",
      "Image:D:\\TFODCourse\\Tensorflow\\workspace\\images\\collectedimages\\one\\one.05ecdb59-bbf0-11ed-acbd-6240a8552066.jpg -> Annotation:D:/TFODCourse/Tensorflow/workspace/images/collectedimages/one\\one.05ecdb59-bbf0-11ed-acbd-6240a8552066.xml\n",
      "Image:D:\\TFODCourse\\Tensorflow\\workspace\\images\\collectedimages\\one\\one.011e4b20-bbf0-11ed-8437-6240a8552066.jpg -> Annotation:D:/TFODCourse/Tensorflow/workspace/images/collectedimages/one\\one.011e4b20-bbf0-11ed-8437-6240a8552066.xml\n",
      "Image:D:\\TFODCourse\\Tensorflow\\workspace\\images\\collectedimages\\one\\one.0383ec02-bbf0-11ed-b9c6-6240a8552066.jpg -> Annotation:D:/TFODCourse/Tensorflow/workspace/images/collectedimages/one\\one.0383ec02-bbf0-11ed-b9c6-6240a8552066.xml\n",
      "Image:D:\\TFODCourse\\Tensorflow\\workspace\\images\\collectedimages\\one\\one.07215ce7-bbf0-11ed-ac75-6240a8552066.jpg -> Annotation:D:/TFODCourse/Tensorflow/workspace/images/collectedimages/one\\one.07215ce7-bbf0-11ed-ac75-6240a8552066.xml\n",
      "Image:D:\\TFODCourse\\Tensorflow\\workspace\\images\\collectedimages\\one\\one.025187c6-bbf0-11ed-9138-6240a8552066.jpg -> Annotation:D:/TFODCourse/Tensorflow/workspace/images/collectedimages/one\\one.025187c6-bbf0-11ed-9138-6240a8552066.xml\n",
      "Image:D:\\TFODCourse\\Tensorflow\\workspace\\images\\collectedimages\\one\\one.fc3a4ff0-bbef-11ed-b722-6240a8552066.jpg -> Annotation:D:/TFODCourse/Tensorflow/workspace/images/collectedimages/one\\one.fc3a4ff0-bbef-11ed-b722-6240a8552066.xml\n",
      "Image:D:\\TFODCourse\\Tensorflow\\workspace\\images\\collectedimages\\one\\one.fd7698ab-bbef-11ed-ad69-6240a8552066.jpg -> Annotation:D:/TFODCourse/Tensorflow/workspace/images/collectedimages/one\\one.fd7698ab-bbef-11ed-ad69-6240a8552066.xml\n",
      "Image:D:\\TFODCourse\\Tensorflow\\workspace\\images\\collectedimages\\one\\one.feb4e6c5-bbef-11ed-862f-6240a8552066.jpg -> Annotation:D:/TFODCourse/Tensorflow/workspace/images/collectedimages/one\\one.feb4e6c5-bbef-11ed-862f-6240a8552066.xml\n",
      "Image:D:\\TFODCourse\\Tensorflow\\workspace\\images\\collectedimages\\one\\one.ffe9b8a4-bbef-11ed-804a-6240a8552066.jpg -> Annotation:D:/TFODCourse/Tensorflow/workspace/images/collectedimages/one\\one.ffe9b8a4-bbef-11ed-804a-6240a8552066.xml\n",
      "Image:D:\\TFODCourse\\Tensorflow\\workspace\\images\\collectedimages\\teacher\\teacher.5fef30d7-bbf0-11ed-aaa3-6240a8552066.jpg -> Annotation:D:/TFODCourse/Tensorflow/workspace/images/collectedimages/teacher\\teacher.5fef30d7-bbf0-11ed-aaa3-6240a8552066.xml\n",
      "Image:D:\\TFODCourse\\Tensorflow\\workspace\\images\\collectedimages\\teacher\\teacher.6ac3f1f4-bbf0-11ed-a21b-6240a8552066.jpg -> Annotation:D:/TFODCourse/Tensorflow/workspace/images/collectedimages/teacher\\teacher.6ac3f1f4-bbf0-11ed-a21b-6240a8552066.xml\n",
      "Image:D:\\TFODCourse\\Tensorflow\\workspace\\images\\collectedimages\\teacher\\teacher.65f53ccc-bbf0-11ed-80f9-6240a8552066.jpg -> Annotation:D:/TFODCourse/Tensorflow/workspace/images/collectedimages/teacher\\teacher.65f53ccc-bbf0-11ed-80f9-6240a8552066.xml\n",
      "Image:D:\\TFODCourse\\Tensorflow\\workspace\\images\\collectedimages\\teacher\\teacher.685d474d-bbf0-11ed-83a5-6240a8552066.jpg -> Annotation:D:/TFODCourse/Tensorflow/workspace/images/collectedimages/teacher\\teacher.685d474d-bbf0-11ed-83a5-6240a8552066.xml\n",
      "Image:D:\\TFODCourse\\Tensorflow\\workspace\\images\\collectedimages\\teacher\\teacher.6389de3a-bbf0-11ed-aabf-6240a8552066.jpg -> Annotation:D:/TFODCourse/Tensorflow/workspace/images/collectedimages/teacher\\teacher.6389de3a-bbf0-11ed-aabf-6240a8552066.xml\n",
      "Image:D:\\TFODCourse\\Tensorflow\\workspace\\images\\collectedimages\\teacher\\teacher.6990dad7-bbf0-11ed-901e-6240a8552066.jpg -> Annotation:D:/TFODCourse/Tensorflow/workspace/images/collectedimages/teacher\\teacher.6990dad7-bbf0-11ed-901e-6240a8552066.xml\n",
      "Image:D:\\TFODCourse\\Tensorflow\\workspace\\images\\collectedimages\\teacher\\teacher.62564adc-bbf0-11ed-9daa-6240a8552066.jpg -> Annotation:D:/TFODCourse/Tensorflow/workspace/images/collectedimages/teacher\\teacher.62564adc-bbf0-11ed-9daa-6240a8552066.xml\n",
      "Cancel creation.\n",
      "Cancel creation.\n",
      "Image:D:\\TFODCourse\\Tensorflow\\workspace\\images\\collectedimages\\teacher\\teacher.612252c6-bbf0-11ed-8686-6240a8552066.jpg -> Annotation:D:/TFODCourse/Tensorflow/workspace/images/collectedimages/teacher\\teacher.612252c6-bbf0-11ed-8686-6240a8552066.xml\n",
      "Image:D:\\TFODCourse\\Tensorflow\\workspace\\images\\collectedimages\\teacher\\teacher.67294708-bbf0-11ed-80cc-6240a8552066.jpg -> Annotation:D:/TFODCourse/Tensorflow/workspace/images/collectedimages/teacher\\teacher.67294708-bbf0-11ed-80cc-6240a8552066.xml\n",
      "Image:D:\\TFODCourse\\Tensorflow\\workspace\\images\\collectedimages\\three\\three.1d89f6ac-bbf0-11ed-9b11-6240a8552066.jpg -> Annotation:D:/TFODCourse/Tensorflow/workspace/images/collectedimages/three\\three.1d89f6ac-bbf0-11ed-9b11-6240a8552066.xml\n",
      "Image:D:\\TFODCourse\\Tensorflow\\workspace\\images\\collectedimages\\three\\three.1ec04568-bbf0-11ed-b32c-6240a8552066.jpg -> Annotation:D:/TFODCourse/Tensorflow/workspace/images/collectedimages/three\\three.1ec04568-bbf0-11ed-b32c-6240a8552066.xml\n",
      "Image:D:\\TFODCourse\\Tensorflow\\workspace\\images\\collectedimages\\three\\three.1ff6219d-bbf0-11ed-86a7-6240a8552066.jpg -> Annotation:D:/TFODCourse/Tensorflow/workspace/images/collectedimages/three\\three.1ff6219d-bbf0-11ed-86a7-6240a8552066.xml\n",
      "Image:D:\\TFODCourse\\Tensorflow\\workspace\\images\\collectedimages\\three\\three.24c147d3-bbf0-11ed-a59f-6240a8552066.jpg -> Annotation:D:/TFODCourse/Tensorflow/workspace/images/collectedimages/three\\three.24c147d3-bbf0-11ed-a59f-6240a8552066.xml\n",
      "Image:D:\\TFODCourse\\Tensorflow\\workspace\\images\\collectedimages\\three\\three.25f56129-bbf0-11ed-b0e5-6240a8552066.jpg -> Annotation:D:/TFODCourse/Tensorflow/workspace/images/collectedimages/three\\three.25f56129-bbf0-11ed-b0e5-6240a8552066.xml\n",
      "Image:D:\\TFODCourse\\Tensorflow\\workspace\\images\\collectedimages\\three\\three.225b230f-bbf0-11ed-8b59-6240a8552066.jpg -> Annotation:D:/TFODCourse/Tensorflow/workspace/images/collectedimages/three\\three.225b230f-bbf0-11ed-8b59-6240a8552066.xml\n",
      "Image:D:\\TFODCourse\\Tensorflow\\workspace\\images\\collectedimages\\three\\three.238e150c-bbf0-11ed-a0cb-6240a8552066.jpg -> Annotation:D:/TFODCourse/Tensorflow/workspace/images/collectedimages/three\\three.238e150c-bbf0-11ed-a0cb-6240a8552066.xml\n",
      "Image:D:\\TFODCourse\\Tensorflow\\workspace\\images\\collectedimages\\three\\three.285c3940-bbf0-11ed-881a-6240a8552066.jpg -> Annotation:D:/TFODCourse/Tensorflow/workspace/images/collectedimages/three\\three.285c3940-bbf0-11ed-881a-6240a8552066.xml\n",
      "Image:D:\\TFODCourse\\Tensorflow\\workspace\\images\\collectedimages\\three\\three.2729ae67-bbf0-11ed-bc84-6240a8552066.jpg -> Annotation:D:/TFODCourse/Tensorflow/workspace/images/collectedimages/three\\three.2729ae67-bbf0-11ed-bc84-6240a8552066.xml\n",
      "Image:D:\\TFODCourse\\Tensorflow\\workspace\\images\\collectedimages\\three\\three.21283f92-bbf0-11ed-9693-6240a8552066.jpg -> Annotation:D:/TFODCourse/Tensorflow/workspace/images/collectedimages/three\\three.21283f92-bbf0-11ed-9693-6240a8552066.xml\n",
      "Image:D:\\TFODCourse\\Tensorflow\\workspace\\images\\collectedimages\\two\\two.0cf1db6b-bbf0-11ed-a8ca-6240a8552066.jpg -> Annotation:D:/TFODCourse/Tensorflow/workspace/images/collectedimages/two\\two.0cf1db6b-bbf0-11ed-a8ca-6240a8552066.xml\n",
      "Image:D:\\TFODCourse\\Tensorflow\\workspace\\images\\collectedimages\\two\\two.0e26fe7a-bbf0-11ed-ab69-6240a8552066.jpg -> Annotation:D:/TFODCourse/Tensorflow/workspace/images/collectedimages/two\\two.0e26fe7a-bbf0-11ed-ab69-6240a8552066.xml\n",
      "Image:D:\\TFODCourse\\Tensorflow\\workspace\\images\\collectedimages\\two\\two.0f5a092c-bbf0-11ed-82a4-6240a8552066.jpg -> Annotation:D:/TFODCourse/Tensorflow/workspace/images/collectedimages/two\\two.0f5a092c-bbf0-11ed-82a4-6240a8552066.xml\n",
      "Image:D:\\TFODCourse\\Tensorflow\\workspace\\images\\collectedimages\\two\\two.11c187d5-bbf0-11ed-ba6e-6240a8552066.jpg -> Annotation:D:/TFODCourse/Tensorflow/workspace/images/collectedimages/two\\two.11c187d5-bbf0-11ed-ba6e-6240a8552066.xml\n",
      "Image:D:\\TFODCourse\\Tensorflow\\workspace\\images\\collectedimages\\two\\two.12f36339-bbf0-11ed-88f7-6240a8552066.jpg -> Annotation:D:/TFODCourse/Tensorflow/workspace/images/collectedimages/two\\two.12f36339-bbf0-11ed-88f7-6240a8552066.xml\n",
      "Image:D:\\TFODCourse\\Tensorflow\\workspace\\images\\collectedimages\\two\\two.17c242d7-bbf0-11ed-b591-6240a8552066.jpg -> Annotation:D:/TFODCourse/Tensorflow/workspace/images/collectedimages/two\\two.17c242d7-bbf0-11ed-b591-6240a8552066.xml\n",
      "Image:D:\\TFODCourse\\Tensorflow\\workspace\\images\\collectedimages\\two\\two.168df443-bbf0-11ed-9e5e-6240a8552066.jpg -> Annotation:D:/TFODCourse/Tensorflow/workspace/images/collectedimages/two\\two.168df443-bbf0-11ed-9e5e-6240a8552066.xml\n",
      "Image:D:\\TFODCourse\\Tensorflow\\workspace\\images\\collectedimages\\two\\two.1425ca19-bbf0-11ed-b70f-6240a8552066.jpg -> Annotation:D:/TFODCourse/Tensorflow/workspace/images/collectedimages/two\\two.1425ca19-bbf0-11ed-b70f-6240a8552066.xml\n",
      "Image:D:\\TFODCourse\\Tensorflow\\workspace\\images\\collectedimages\\two\\two.1559b67e-bbf0-11ed-b4d1-6240a8552066.jpg -> Annotation:D:/TFODCourse/Tensorflow/workspace/images/collectedimages/two\\two.1559b67e-bbf0-11ed-b4d1-6240a8552066.xml\n"
     ]
    }
   ],
   "source": [
    "!cd {LABELIMG_PATH} && python labelImg.py"
   ]
  },
  {
   "cell_type": "markdown",
   "metadata": {},
   "source": [
    "# 6. Move them into a Training and Testing Partition"
   ]
  },
  {
   "cell_type": "markdown",
   "metadata": {},
   "source": [
    "# OPTIONAL - 7. Compress them for Colab Training"
   ]
  },
  {
   "cell_type": "code",
   "execution_count": 20,
   "metadata": {},
   "outputs": [],
   "source": [
    "TRAIN_PATH = os.path.join('Tensorflow', 'workspace', 'images', 'train')\n",
    "TEST_PATH = os.path.join('Tensorflow', 'workspace', 'images', 'test')\n",
    "ARCHIVE_PATH = os.path.join('Tensorflow', 'workspace', 'images', 'archive.tar.gz')"
   ]
  },
  {
   "cell_type": "code",
   "execution_count": 21,
   "metadata": {},
   "outputs": [],
   "source": [
    "!tar -czf {ARCHIVE_PATH} {TRAIN_PATH} {TEST_PATH}"
   ]
  },
  {
   "cell_type": "code",
   "execution_count": null,
   "metadata": {},
   "outputs": [],
   "source": []
  }
 ],
 "metadata": {
  "kernelspec": {
   "display_name": "tfod",
   "language": "python",
   "name": "tfod"
  },
  "language_info": {
   "codemirror_mode": {
    "name": "ipython",
    "version": 3
   },
   "file_extension": ".py",
   "mimetype": "text/x-python",
   "name": "python",
   "nbconvert_exporter": "python",
   "pygments_lexer": "ipython3",
   "version": "3.9.13"
  }
 },
 "nbformat": 4,
 "nbformat_minor": 2
}
